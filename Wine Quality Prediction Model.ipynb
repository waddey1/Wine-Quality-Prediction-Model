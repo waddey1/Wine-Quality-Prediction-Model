{
 "cells": [
  {
   "cell_type": "markdown",
   "metadata": {},
   "source": [
    "# Predicting the Quality of Wine\n",
    "### Chenxue Hou\n",
    "### Sept 30th, 2024"
   ]
  },
  {
   "cell_type": "markdown",
   "metadata": {
    "tags": []
   },
   "source": [
    "## 1 Loading and Exploring the Data Set"
   ]
  },
  {
   "cell_type": "markdown",
   "metadata": {},
   "source": [
    "Let us first read the data set from the file. Remember to make sure that you are working in the directory containing the data file. "
   ]
  },
  {
   "cell_type": "code",
   "execution_count": 1,
   "metadata": {},
   "outputs": [
    {
     "name": "stdout",
     "output_type": "stream",
     "text": [
      "<class 'pandas.core.frame.DataFrame'>\n",
      "RangeIndex: 25 entries, 0 to 24\n",
      "Data columns (total 7 columns):\n",
      " #   Column       Non-Null Count  Dtype  \n",
      "---  ------       --------------  -----  \n",
      " 0   Year         25 non-null     int64  \n",
      " 1   Price        25 non-null     float64\n",
      " 2   WinterRain   25 non-null     int64  \n",
      " 3   AGST         25 non-null     float64\n",
      " 4   HarvestRain  25 non-null     int64  \n",
      " 5   Age          25 non-null     int64  \n",
      " 6   FrancePop    25 non-null     float64\n",
      "dtypes: float64(3), int64(4)\n",
      "memory usage: 1.5 KB\n"
     ]
    }
   ],
   "source": [
    "import pandas as pd \n",
    "import warnings\n",
    "warnings.filterwarnings(\"ignore\")\n",
    "\n",
    "wine = pd.read_csv('Wine.csv')  \n",
    "wine.info()"
   ]
  },
  {
   "cell_type": "markdown",
   "metadata": {},
   "source": [
    "We can look at the summary of our data."
   ]
  },
  {
   "cell_type": "code",
   "execution_count": 2,
   "metadata": {},
   "outputs": [
    {
     "data": {
      "text/html": [
       "<div>\n",
       "<style scoped>\n",
       "    .dataframe tbody tr th:only-of-type {\n",
       "        vertical-align: middle;\n",
       "    }\n",
       "\n",
       "    .dataframe tbody tr th {\n",
       "        vertical-align: top;\n",
       "    }\n",
       "\n",
       "    .dataframe thead th {\n",
       "        text-align: right;\n",
       "    }\n",
       "</style>\n",
       "<table border=\"1\" class=\"dataframe\">\n",
       "  <thead>\n",
       "    <tr style=\"text-align: right;\">\n",
       "      <th></th>\n",
       "      <th>Year</th>\n",
       "      <th>Price</th>\n",
       "      <th>WinterRain</th>\n",
       "      <th>AGST</th>\n",
       "      <th>HarvestRain</th>\n",
       "      <th>Age</th>\n",
       "      <th>FrancePop</th>\n",
       "    </tr>\n",
       "  </thead>\n",
       "  <tbody>\n",
       "    <tr>\n",
       "      <th>count</th>\n",
       "      <td>25.000000</td>\n",
       "      <td>25.000000</td>\n",
       "      <td>25.000000</td>\n",
       "      <td>25.000000</td>\n",
       "      <td>25.000000</td>\n",
       "      <td>25.000000</td>\n",
       "      <td>25.000000</td>\n",
       "    </tr>\n",
       "    <tr>\n",
       "      <th>mean</th>\n",
       "      <td>1965.800000</td>\n",
       "      <td>7.067224</td>\n",
       "      <td>605.280000</td>\n",
       "      <td>16.509336</td>\n",
       "      <td>148.560000</td>\n",
       "      <td>17.200000</td>\n",
       "      <td>49694.436760</td>\n",
       "    </tr>\n",
       "    <tr>\n",
       "      <th>std</th>\n",
       "      <td>7.691987</td>\n",
       "      <td>0.650341</td>\n",
       "      <td>132.277965</td>\n",
       "      <td>0.675397</td>\n",
       "      <td>74.419464</td>\n",
       "      <td>7.691987</td>\n",
       "      <td>3665.270243</td>\n",
       "    </tr>\n",
       "    <tr>\n",
       "      <th>min</th>\n",
       "      <td>1952.000000</td>\n",
       "      <td>6.204900</td>\n",
       "      <td>376.000000</td>\n",
       "      <td>14.983300</td>\n",
       "      <td>38.000000</td>\n",
       "      <td>5.000000</td>\n",
       "      <td>43183.569000</td>\n",
       "    </tr>\n",
       "    <tr>\n",
       "      <th>25%</th>\n",
       "      <td>1960.000000</td>\n",
       "      <td>6.518800</td>\n",
       "      <td>536.000000</td>\n",
       "      <td>16.200000</td>\n",
       "      <td>89.000000</td>\n",
       "      <td>11.000000</td>\n",
       "      <td>46583.995000</td>\n",
       "    </tr>\n",
       "    <tr>\n",
       "      <th>50%</th>\n",
       "      <td>1966.000000</td>\n",
       "      <td>7.121100</td>\n",
       "      <td>600.000000</td>\n",
       "      <td>16.533300</td>\n",
       "      <td>130.000000</td>\n",
       "      <td>17.000000</td>\n",
       "      <td>50254.966000</td>\n",
       "    </tr>\n",
       "    <tr>\n",
       "      <th>75%</th>\n",
       "      <td>1972.000000</td>\n",
       "      <td>7.495000</td>\n",
       "      <td>697.000000</td>\n",
       "      <td>17.066700</td>\n",
       "      <td>187.000000</td>\n",
       "      <td>23.000000</td>\n",
       "      <td>52894.183000</td>\n",
       "    </tr>\n",
       "    <tr>\n",
       "      <th>max</th>\n",
       "      <td>1978.000000</td>\n",
       "      <td>8.493700</td>\n",
       "      <td>830.000000</td>\n",
       "      <td>17.650000</td>\n",
       "      <td>292.000000</td>\n",
       "      <td>31.000000</td>\n",
       "      <td>54602.193000</td>\n",
       "    </tr>\n",
       "  </tbody>\n",
       "</table>\n",
       "</div>"
      ],
      "text/plain": [
       "              Year      Price  WinterRain       AGST  HarvestRain        Age  \\\n",
       "count    25.000000  25.000000   25.000000  25.000000    25.000000  25.000000   \n",
       "mean   1965.800000   7.067224  605.280000  16.509336   148.560000  17.200000   \n",
       "std       7.691987   0.650341  132.277965   0.675397    74.419464   7.691987   \n",
       "min    1952.000000   6.204900  376.000000  14.983300    38.000000   5.000000   \n",
       "25%    1960.000000   6.518800  536.000000  16.200000    89.000000  11.000000   \n",
       "50%    1966.000000   7.121100  600.000000  16.533300   130.000000  17.000000   \n",
       "75%    1972.000000   7.495000  697.000000  17.066700   187.000000  23.000000   \n",
       "max    1978.000000   8.493700  830.000000  17.650000   292.000000  31.000000   \n",
       "\n",
       "          FrancePop  \n",
       "count     25.000000  \n",
       "mean   49694.436760  \n",
       "std     3665.270243  \n",
       "min    43183.569000  \n",
       "25%    46583.995000  \n",
       "50%    50254.966000  \n",
       "75%    52894.183000  \n",
       "max    54602.193000  "
      ]
     },
     "execution_count": 2,
     "metadata": {},
     "output_type": "execute_result"
    }
   ],
   "source": [
    "wine.describe()"
   ]
  },
  {
   "cell_type": "markdown",
   "metadata": {},
   "source": [
    "We can explore the relationship between any two variables. For example, let us see how the wine price changes with the temperature, represented by `AGST`, which stands for the average growing season temperature. We can add a horizontal line that represents the historical average price."
   ]
  },
  {
   "cell_type": "code",
   "execution_count": 3,
   "metadata": {},
   "outputs": [
    {
     "data": {
      "image/png": "[encoded data removed]",
      "text/plain": [
       "<Figure size 432x288 with 1 Axes>"
      ]
     },
     "metadata": {
      "needs_background": "light"
     },
     "output_type": "display_data"
    }
   ],
   "source": [
    "import matplotlib.pyplot as plt  \n",
    "%matplotlib inline\n",
    "\n",
    "plt.xlabel('wine$AGST')\n",
    "plt.ylabel('wine$Price')\n",
    "plt.scatter(wine['AGST'],wine['Price'])\n",
    "plt.axhline(y=wine['Price'].mean(), color='r', linestyle='-')\n",
    "plt.show()"
   ]
  },
  {
   "cell_type": "markdown",
   "metadata": {},
   "source": [
    "## 2 Building Linear Regression Models"
   ]
  },
  {
   "cell_type": "markdown",
   "metadata": {},
   "source": [
    "Let us start by creating a one-variable linear regression equation using `AGST` to predict Price. Here we use the `lm` function, which stands for 'inear model'."
   ]
  },
  {
   "cell_type": "code",
   "execution_count": 4,
   "metadata": {},
   "outputs": [],
   "source": [
    "import numpy as np\n",
    "\n",
    "X = np.array(wine['AGST'])[:, np.newaxis]  #convert wine['AGST'] to a matrix (one column)\n",
    "y = wine['Price']"
   ]
  },
  {
   "cell_type": "code",
   "execution_count": 5,
   "metadata": {},
   "outputs": [
    {
     "name": "stdout",
     "output_type": "stream",
     "text": [
      "intercept: -3.4177613134854585\n",
      "slope: [0.63509431]\n",
      "coefficient of determination(𝑅²) : 0.4350231677999199\n"
     ]
    }
   ],
   "source": [
    "from sklearn import linear_model  \n",
    "\n",
    "model1 = linear_model.LinearRegression()\n",
    "model1.fit(X,y)\n",
    "print('intercept:', model1.intercept_)  \n",
    "print('slope:', model1.coef_)  \n",
    "\n",
    "r_sq = model1.score(X, y)\n",
    "print('coefficient of determination(𝑅²) :', r_sq)"
   ]
  },
  {
   "cell_type": "markdown",
   "metadata": {},
   "source": [
    "We can plot the regression line of our model, together with the benchmark prediction using the historical average price."
   ]
  },
  {
   "cell_type": "code",
   "execution_count": 6,
   "metadata": {},
   "outputs": [
    {
     "data": {
      "image/png": "[encoded data removed]",
      "text/plain": [
       "<Figure size 432x288 with 1 Axes>"
      ]
     },
     "metadata": {
      "needs_background": "light"
     },
     "output_type": "display_data"
    }
   ],
   "source": [
    "plt.xlabel('wine$AGST')\n",
    "plt.ylabel('wine$Price')\n",
    "plt.scatter(wine['AGST'],wine['Price'])\n",
    "plt.axhline(y=wine['Price'].mean(), color='r', linestyle='-')\n",
    "\n",
    "xfit = np.linspace(15, 17.6, 1000)[:, np.newaxis] \n",
    "#generate an array including 1000 numbers from 15 to 17.6 and convert it to a matrix \n",
    "yfit = model1.predict(xfit) \n",
    "plt.plot(xfit, yfit,color='g')\n",
    "plt.show()"
   ]
  },
  {
   "cell_type": "markdown",
   "metadata": {},
   "source": [
    "We can compute the sum of squared errors."
   ]
  },
  {
   "cell_type": "code",
   "execution_count": 7,
   "metadata": {},
   "outputs": [
    {
     "data": {
      "text/plain": [
       "5.734875147020114"
      ]
     },
     "execution_count": 7,
     "metadata": {},
     "output_type": "execute_result"
    }
   ],
   "source": [
    "y_predicted1=model1.predict(X)\n",
    "SSE1 = np.sum((y-y_predicted1)**2)\n",
    "SSE1"
   ]
  },
  {
   "cell_type": "markdown",
   "metadata": {},
   "source": [
    "Now, let us add another variable, `HarvestRain`, to our regression model."
   ]
  },
  {
   "cell_type": "code",
   "execution_count": 8,
   "metadata": {},
   "outputs": [
    {
     "name": "stdout",
     "output_type": "stream",
     "text": [
      "intercept: -2.202653600949949\n",
      "slope: [ 0.60261691 -0.00457006]\n",
      "coefficient of determination(𝑅²) : 0.7073707662049415\n"
     ]
    }
   ],
   "source": [
    "X2 = wine.loc[:,['AGST','HarvestRain']]\n",
    "model2 = linear_model.LinearRegression()\n",
    "model2.fit(X2,y)\n",
    "\n",
    "print('intercept:', model2.intercept_) \n",
    "print('slope:', model2.coef_)  \n",
    "\n",
    "r_sq = model2.score(X2, y)\n",
    "print('coefficient of determination(𝑅²) :', r_sq)"
   ]
  },
  {
   "cell_type": "markdown",
   "metadata": {},
   "source": [
    "Again, we can compute the sum of squared errors of this new model."
   ]
  },
  {
   "cell_type": "code",
   "execution_count": 9,
   "metadata": {},
   "outputs": [
    {
     "data": {
      "text/plain": [
       "2.970373340173543"
      ]
     },
     "execution_count": 9,
     "metadata": {},
     "output_type": "execute_result"
    }
   ],
   "source": [
    "y_predicted2=model2.predict(X2)\n",
    "SSE2 = np.sum((y-y_predicted2)**2)\n",
    "SSE2"
   ]
  },
  {
   "cell_type": "markdown",
   "metadata": {
    "odps_configure": true
   },
   "source": [
    "Let us build a third model with all of our independent variables and compute its sum of squared errors."
   ]
  },
  {
   "cell_type": "code",
   "execution_count": 10,
   "metadata": {},
   "outputs": [
    {
     "name": "stdout",
     "output_type": "stream",
     "text": [
      "intercept: -0.4503988643946162\n",
      "slope: [ 1.04250681e-03  6.01223884e-01 -3.95812450e-03  5.84748489e-04\n",
      " -4.95273038e-05]\n",
      "coefficient of determination(𝑅²) : 0.8293592223299041\n"
     ]
    }
   ],
   "source": [
    "X3 = wine.drop(['Price','Year'], axis=1)\n",
    "model3 = linear_model.LinearRegression()\n",
    "model3.fit(X3,y)\n",
    "\n",
    "print('intercept:', model3.intercept_)  \n",
    "print('slope:', model3.coef_)  \n",
    "\n",
    "r_sq = model3.score(X3, y)\n",
    "print('coefficient of determination(𝑅²) :', r_sq)"
   ]
  },
  {
   "cell_type": "code",
   "execution_count": 11,
   "metadata": {},
   "outputs": [
    {
     "data": {
      "text/plain": [
       "1.7321127153437976"
      ]
     },
     "execution_count": 11,
     "metadata": {},
     "output_type": "execute_result"
    }
   ],
   "source": [
    "y_predicted3=model3.predict(X3)\n",
    "SSE3 = np.sum((y-y_predicted3)**2)\n",
    "SSE3"
   ]
  },
  {
   "cell_type": "markdown",
   "metadata": {},
   "source": [
    "## 3 Refining the Model\n",
    "Multicollearity problem: In particular, we suspect Age and FrancePopulation are highly correlated. We can compute the correlation coefficients of all the variables by calling the ‘df.corr’ function"
   ]
  },
  {
   "cell_type": "code",
   "execution_count": 12,
   "metadata": {},
   "outputs": [
    {
     "data": {
      "text/html": [
       "<div>\n",
       "<style scoped>\n",
       "    .dataframe tbody tr th:only-of-type {\n",
       "        vertical-align: middle;\n",
       "    }\n",
       "\n",
       "    .dataframe tbody tr th {\n",
       "        vertical-align: top;\n",
       "    }\n",
       "\n",
       "    .dataframe thead th {\n",
       "        text-align: right;\n",
       "    }\n",
       "</style>\n",
       "<table border=\"1\" class=\"dataframe\">\n",
       "  <thead>\n",
       "    <tr style=\"text-align: right;\">\n",
       "      <th></th>\n",
       "      <th>Year</th>\n",
       "      <th>Price</th>\n",
       "      <th>WinterRain</th>\n",
       "      <th>AGST</th>\n",
       "      <th>HarvestRain</th>\n",
       "      <th>Age</th>\n",
       "      <th>FrancePop</th>\n",
       "    </tr>\n",
       "  </thead>\n",
       "  <tbody>\n",
       "    <tr>\n",
       "      <th>Year</th>\n",
       "      <td>1.000000</td>\n",
       "      <td>-0.447768</td>\n",
       "      <td>0.016970</td>\n",
       "      <td>-0.246916</td>\n",
       "      <td>0.028009</td>\n",
       "      <td>-1.000000</td>\n",
       "      <td>0.994485</td>\n",
       "    </tr>\n",
       "    <tr>\n",
       "      <th>Price</th>\n",
       "      <td>-0.447768</td>\n",
       "      <td>1.000000</td>\n",
       "      <td>0.136651</td>\n",
       "      <td>0.659563</td>\n",
       "      <td>-0.563322</td>\n",
       "      <td>0.447768</td>\n",
       "      <td>-0.466862</td>\n",
       "    </tr>\n",
       "    <tr>\n",
       "      <th>WinterRain</th>\n",
       "      <td>0.016970</td>\n",
       "      <td>0.136651</td>\n",
       "      <td>1.000000</td>\n",
       "      <td>-0.321091</td>\n",
       "      <td>-0.275441</td>\n",
       "      <td>-0.016970</td>\n",
       "      <td>-0.001622</td>\n",
       "    </tr>\n",
       "    <tr>\n",
       "      <th>AGST</th>\n",
       "      <td>-0.246916</td>\n",
       "      <td>0.659563</td>\n",
       "      <td>-0.321091</td>\n",
       "      <td>1.000000</td>\n",
       "      <td>-0.064496</td>\n",
       "      <td>0.246916</td>\n",
       "      <td>-0.259162</td>\n",
       "    </tr>\n",
       "    <tr>\n",
       "      <th>HarvestRain</th>\n",
       "      <td>0.028009</td>\n",
       "      <td>-0.563322</td>\n",
       "      <td>-0.275441</td>\n",
       "      <td>-0.064496</td>\n",
       "      <td>1.000000</td>\n",
       "      <td>-0.028009</td>\n",
       "      <td>0.041264</td>\n",
       "    </tr>\n",
       "    <tr>\n",
       "      <th>Age</th>\n",
       "      <td>-1.000000</td>\n",
       "      <td>0.447768</td>\n",
       "      <td>-0.016970</td>\n",
       "      <td>0.246916</td>\n",
       "      <td>-0.028009</td>\n",
       "      <td>1.000000</td>\n",
       "      <td>-0.994485</td>\n",
       "    </tr>\n",
       "    <tr>\n",
       "      <th>FrancePop</th>\n",
       "      <td>0.994485</td>\n",
       "      <td>-0.466862</td>\n",
       "      <td>-0.001622</td>\n",
       "      <td>-0.259162</td>\n",
       "      <td>0.041264</td>\n",
       "      <td>-0.994485</td>\n",
       "      <td>1.000000</td>\n",
       "    </tr>\n",
       "  </tbody>\n",
       "</table>\n",
       "</div>"
      ],
      "text/plain": [
       "                 Year     Price  WinterRain      AGST  HarvestRain       Age  \\\n",
       "Year         1.000000 -0.447768    0.016970 -0.246916     0.028009 -1.000000   \n",
       "Price       -0.447768  1.000000    0.136651  0.659563    -0.563322  0.447768   \n",
       "WinterRain   0.016970  0.136651    1.000000 -0.321091    -0.275441 -0.016970   \n",
       "AGST        -0.246916  0.659563   -0.321091  1.000000    -0.064496  0.246916   \n",
       "HarvestRain  0.028009 -0.563322   -0.275441 -0.064496     1.000000 -0.028009   \n",
       "Age         -1.000000  0.447768   -0.016970  0.246916    -0.028009  1.000000   \n",
       "FrancePop    0.994485 -0.466862   -0.001622 -0.259162     0.041264 -0.994485   \n",
       "\n",
       "             FrancePop  \n",
       "Year          0.994485  \n",
       "Price        -0.466862  \n",
       "WinterRain   -0.001622  \n",
       "AGST         -0.259162  \n",
       "HarvestRain   0.041264  \n",
       "Age          -0.994485  \n",
       "FrancePop     1.000000  "
      ]
     },
     "execution_count": 12,
     "metadata": {},
     "output_type": "execute_result"
    }
   ],
   "source": [
    "wine.corr()"
   ]
  },
  {
   "cell_type": "markdown",
   "metadata": {},
   "source": [
    "From the outputs, we can confirm that Age and FrancePopulation are highly correlated with an almost -1 correlation coefficient. The strong negative correlation between `Age` and `FrancePopulation` can be visualized in a scatter plot."
   ]
  },
  {
   "cell_type": "code",
   "execution_count": 13,
   "metadata": {},
   "outputs": [
    {
     "data": {
      "image/png": "[encoded data removed]",
      "text/plain": [
       "<Figure size 432x288 with 1 Axes>"
      ]
     },
     "metadata": {
      "needs_background": "light"
     },
     "output_type": "display_data"
    }
   ],
   "source": [
    "plt.xlabel('wine$Age')\n",
    "plt.ylabel('wine$FrancePop')\n",
    "plt.scatter(wine['Age'],wine['FrancePop'])\n",
    "plt.show()"
   ]
  },
  {
   "cell_type": "markdown",
   "metadata": {},
   "source": [
    "Because of this, we should consider removing one of them from our model. Let us start by just removing `FrancePopulation`, which we intuitively do not expect to be very predictive of wine price anyway."
   ]
  },
  {
   "cell_type": "code",
   "execution_count": 14,
   "metadata": {},
   "outputs": [
    {
     "name": "stdout",
     "output_type": "stream",
     "text": [
      "intercept: -3.4299801869287183\n",
      "slope: [ 0.00107551  0.60720935 -0.00397153  0.02393083]\n",
      "coefficient of determination(𝑅²) : 0.8285662193424281\n"
     ]
    }
   ],
   "source": [
    "X4 = wine.drop(['Price','Year','FrancePop',], axis=1)\n",
    "\n",
    "model4 = linear_model.LinearRegression()\n",
    "model4.fit(X4,y)\n",
    "\n",
    "print('intercept:', model4.intercept_)  \n",
    "print('slope:', model4.coef_)  \n",
    "\n",
    "r_sq = model4.score(X4, y)\n",
    "print('coefficient of determination(𝑅²) :', r_sq)"
   ]
  },
  {
   "cell_type": "code",
   "execution_count": 15,
   "metadata": {},
   "outputs": [
    {
     "data": {
      "text/plain": [
       "1.7401622013849842"
      ]
     },
     "execution_count": 15,
     "metadata": {},
     "output_type": "execute_result"
    }
   ],
   "source": [
    "y_predicted4=model4.predict(X4)\n",
    "SSE4 = np.sum((y-y_predicted4)**2)\n",
    "SSE4"
   ]
  },
  {
   "cell_type": "markdown",
   "metadata": {},
   "source": [
    "You can try removing Age, instead of FrancePopulation. You will get a model that is almost equivalent to the one using Age in terms of predictive power, i.e., they have very similar R squared. In this case, we would prefer to keep `Age` but remove `FrancePopulation` because `Age` is more interpretable, and the model using `Age` is more user friendly for managers and customers. Another important reason is that the relationship between FrancePopulation and Price could be spurious relationship. In other words, we have sufficient reasons to suspect that the relationship between `FrancePopulation` and `Price` is a consequence of the relationship between Age and Price and the relationship between `Age` and `FrancePopulation`. Suppose that we also collected some data on the population of any other country in the world, say Singapore, as long as it was increasing over the years, that population data will be significantly correlated with `Price` as it is correlated with `Age`, which does not make any sense to include that population variable in the model.\n",
    "\n",
    "To further refining the model, we can consider removing some relatively insignificant variables. You are advised to remove insignificant variables one at a time. Let us see what would have happened if we had removed both `Age` and `FrancePopulation` at the same time."
   ]
  },
  {
   "cell_type": "code",
   "execution_count": 16,
   "metadata": {},
   "outputs": [
    {
     "name": "stdout",
     "output_type": "stream",
     "text": [
      "intercept: -4.301626260041896\n",
      "slope: [ 0.68102417 -0.00394815  0.00117653]\n",
      "coefficient of determination(𝑅²) : 0.7536894426384035\n"
     ]
    }
   ],
   "source": [
    "X5 = wine.loc[:,['AGST','HarvestRain','WinterRain']]\n",
    "\n",
    "model5= linear_model.LinearRegression()\n",
    "model5.fit(X5,y)\n",
    "\n",
    "print('intercept:', model5.intercept_)  \n",
    "print('slope:', model5.coef_)  \n",
    "\n",
    "r_sq = model5.score(X5, y)\n",
    "print('coefficient of determination(𝑅²) :', r_sq)"
   ]
  },
  {
   "cell_type": "markdown",
   "metadata": {},
   "source": [
    "We can see that R-squared drops significantly. In this case, we will keep `Age` together with the other three variables in the final model, instead of `FrancePopulation`, for the reasons discussed above.\n",
    "\n",
    "## 4 Testing the Model\n",
    "Now let us test our prediction model on the test data, which we will read in first."
   ]
  },
  {
   "cell_type": "code",
   "execution_count": 17,
   "metadata": {},
   "outputs": [
    {
     "data": {
      "text/html": [
       "<div>\n",
       "<style scoped>\n",
       "    .dataframe tbody tr th:only-of-type {\n",
       "        vertical-align: middle;\n",
       "    }\n",
       "\n",
       "    .dataframe tbody tr th {\n",
       "        vertical-align: top;\n",
       "    }\n",
       "\n",
       "    .dataframe thead th {\n",
       "        text-align: right;\n",
       "    }\n",
       "</style>\n",
       "<table border=\"1\" class=\"dataframe\">\n",
       "  <thead>\n",
       "    <tr style=\"text-align: right;\">\n",
       "      <th></th>\n",
       "      <th>Year</th>\n",
       "      <th>Price</th>\n",
       "      <th>WinterRain</th>\n",
       "      <th>AGST</th>\n",
       "      <th>HarvestRain</th>\n",
       "      <th>Age</th>\n",
       "      <th>FrancePop</th>\n",
       "    </tr>\n",
       "  </thead>\n",
       "  <tbody>\n",
       "    <tr>\n",
       "      <th>0</th>\n",
       "      <td>1979</td>\n",
       "      <td>6.9541</td>\n",
       "      <td>717</td>\n",
       "      <td>16.1667</td>\n",
       "      <td>122</td>\n",
       "      <td>4</td>\n",
       "      <td>54835.832</td>\n",
       "    </tr>\n",
       "    <tr>\n",
       "      <th>1</th>\n",
       "      <td>1980</td>\n",
       "      <td>6.4979</td>\n",
       "      <td>578</td>\n",
       "      <td>16.0000</td>\n",
       "      <td>74</td>\n",
       "      <td>3</td>\n",
       "      <td>55110.236</td>\n",
       "    </tr>\n",
       "  </tbody>\n",
       "</table>\n",
       "</div>"
      ],
      "text/plain": [
       "   Year   Price  WinterRain     AGST  HarvestRain  Age  FrancePop\n",
       "0  1979  6.9541         717  16.1667          122    4  54835.832\n",
       "1  1980  6.4979         578  16.0000           74    3  55110.236"
      ]
     },
     "execution_count": 17,
     "metadata": {},
     "output_type": "execute_result"
    }
   ],
   "source": [
    "wineTest=pd.read_csv('Wine_Test.csv')\n",
    "wineTest"
   ]
  },
  {
   "cell_type": "markdown",
   "metadata": {},
   "source": [
    "We can call the `predict` function to make predictions for the test points."
   ]
  },
  {
   "cell_type": "code",
   "execution_count": 18,
   "metadata": {},
   "outputs": [
    {
     "data": {
      "text/plain": [
       "array([6.76892463, 6.6849104 ])"
      ]
     },
     "execution_count": 18,
     "metadata": {},
     "output_type": "execute_result"
    }
   ],
   "source": [
    "predictTest =model4.predict(wineTest.drop(['Price','Year','FrancePop',], axis=1))\n",
    "predictTest"
   ]
  },
  {
   "cell_type": "markdown",
   "metadata": {},
   "source": [
    "To assess the accuracy of our predictions, we can compute the out-of-sample R-squared."
   ]
  },
  {
   "cell_type": "code",
   "execution_count": 19,
   "metadata": {},
   "outputs": [
    {
     "data": {
      "text/plain": [
       "0.7944277602633062"
      ]
     },
     "execution_count": 19,
     "metadata": {},
     "output_type": "execute_result"
    }
   ],
   "source": [
    "SSE = np.sum((wineTest['Price'] - predictTest)**2)\n",
    "SST = np.sum((wineTest['Price'] - np.mean(wine['Price']))**2)\n",
    "1 - SSE/SST   "
   ]
  }
 ],
 "metadata": {
  "kernelspec": {
   "display_name": "Python 3 (ipykernel)",
   "language": "python",
   "name": "python3"
  },
  "language_info": {
   "codemirror_mode": {
    "name": "ipython",
    "version": 3
   },
   "file_extension": ".py",
   "mimetype": "text/x-python",
   "name": "python",
   "nbconvert_exporter": "python",
   "pygments_lexer": "ipython3",
   "version": "3.9.12"
  },
  "tianchi_metadata": {
   "competitions": [],
   "datasets": [
    {
     "id": "13570",
     "title": "wine"
    }
   ],
   "description": "",
   "notebookId": "59987",
   "source": "ailab"
  }
 },
 "nbformat": 4,
 "nbformat_minor": 4
}
